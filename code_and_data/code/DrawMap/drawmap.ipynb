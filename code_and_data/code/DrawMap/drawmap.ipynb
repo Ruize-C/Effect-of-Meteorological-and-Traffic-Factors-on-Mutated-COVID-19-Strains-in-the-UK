{
 "cells": [
  {
   "cell_type": "code",
   "execution_count": 1,
   "metadata": {},
   "outputs": [],
   "source": [
    "from pyecharts.faker import Faker\n",
    "from pyecharts.charts import Map\n",
    "from pyecharts import options as opts\n",
    "from pyecharts.charts import Geo\n",
    "from pyecharts.globals import ChartType, SymbolType\n",
    "import pandas as pd\n",
    "import json\n",
    "from pyecharts.datasets import register_url\n",
    "\n"
   ]
  },
  {
   "cell_type": "code",
   "execution_count": 2,
   "metadata": {},
   "outputs": [],
   "source": [
    "\n",
    "# The example used for testing is partially taken from Faker, i.e. from pyecharts.faker import Faker\n",
    "cityarea = [\"Adur\", \"York\", \"Arun\", \"Boston\", \"Bury\", \"Fenland\", \"Gedling\"]\n",
    "value = [300, 100, 2000, 800, 10000, 400, 5000]"
   ]
  },
  {
   "cell_type": "code",
   "execution_count": 4,
   "metadata": {},
   "outputs": [],
   "source": [
    "def map_visualmap() -> Map:\n",
    "    c = (\n",
    "        Map()\n",
    "        .add(\"\", [list(z) for z in zip(cityarea, value)], \"uabc\")\n",
    "        .set_global_opts(\n",
    "            title_opts=opts.TitleOpts(title=\"Map of United Kingdom\"),\n",
    "            visualmap_opts=opts.VisualMapOpts(max_= 2000),\n",
    "        )\n",
    "    )\n",
    "    return c\n"
   ]
  },
  {
   "cell_type": "code",
   "execution_count": null,
   "metadata": {},
   "outputs": [],
   "source": [
    "if __name__ == '__main__':\n",
    "    city_ = map_visualmap()\n",
    "    city_.render(path=\"test_map_uk.html\")\n"
   ]
  },
  {
   "cell_type": "code",
   "execution_count": 2,
   "metadata": {},
   "outputs": [],
   "source": [
    "\n",
    "try:\n",
    "    register_url(\"https://echarts-maps.github.io/echarts-countries-js/\")\n",
    "except Exception:\n",
    "    import ssl\n",
    "\n",
    "    ssl._create_default_https_context = ssl._create_unverified_context\n",
    "    register_url(\"https://echarts-maps.github.io/echarts-countries-js/\")\n",
    "\n",
    "geo = (\n",
    "    Geo()\n",
    "    .add_schema(maptype=\"UK\")\n",
    "    .set_global_opts(title_opts=opts.TitleOpts(title=\"UK\"))\n",
    "    .render(\"geo_chart_countries_uk.html\")\n",
    "    )"
   ]
  }
 ],
 "metadata": {
  "kernelspec": {
   "display_name": "Python 3.9.12 ('pyecharts')",
   "language": "python",
   "name": "python3"
  },
  "language_info": {
   "codemirror_mode": {
    "name": "ipython",
    "version": 3
   },
   "file_extension": ".py",
   "mimetype": "text/x-python",
   "name": "python",
   "nbconvert_exporter": "python",
   "pygments_lexer": "ipython3",
   "version": "3.9.12"
  },
  "orig_nbformat": 4,
  "vscode": {
   "interpreter": {
    "hash": "bebf22289e89abebbab0a750efb5b88d418fe873d366fb6d1ca3fa60ba20d82b"
   }
  }
 },
 "nbformat": 4,
 "nbformat_minor": 2
}
