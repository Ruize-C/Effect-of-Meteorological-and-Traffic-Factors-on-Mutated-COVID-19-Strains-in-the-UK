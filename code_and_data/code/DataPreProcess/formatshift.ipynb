{
 "cells": [
  {
   "cell_type": "code",
   "execution_count": 1,
   "metadata": {},
   "outputs": [],
   "source": [
    "import numpy as np\n",
    "import pandas as pd\n"
   ]
  },
  {
   "cell_type": "code",
   "execution_count": 6,
   "metadata": {},
   "outputs": [
    {
     "data": {
      "text/html": [
       "<div>\n",
       "<style scoped>\n",
       "    .dataframe tbody tr th:only-of-type {\n",
       "        vertical-align: middle;\n",
       "    }\n",
       "\n",
       "    .dataframe tbody tr th {\n",
       "        vertical-align: top;\n",
       "    }\n",
       "\n",
       "    .dataframe thead th {\n",
       "        text-align: right;\n",
       "    }\n",
       "</style>\n",
       "<table border=\"1\" class=\"dataframe\">\n",
       "  <thead>\n",
       "    <tr style=\"text-align: right;\">\n",
       "      <th></th>\n",
       "      <th>LAD20NM</th>\n",
       "      <th>temperature</th>\n",
       "      <th>humidity</th>\n",
       "      <th>windspeed</th>\n",
       "      <th>UV</th>\n",
       "      <th>totalarrival</th>\n",
       "    </tr>\n",
       "  </thead>\n",
       "  <tbody>\n",
       "    <tr>\n",
       "      <th>0</th>\n",
       "      <td>Adur</td>\n",
       "      <td>0.122504</td>\n",
       "      <td>0.104326</td>\n",
       "      <td>0.333976</td>\n",
       "      <td>-0.091563</td>\n",
       "      <td>0.595159</td>\n",
       "    </tr>\n",
       "    <tr>\n",
       "      <th>1</th>\n",
       "      <td>Allerdale</td>\n",
       "      <td>0.072478</td>\n",
       "      <td>NaN</td>\n",
       "      <td>0.105532</td>\n",
       "      <td>-0.153756</td>\n",
       "      <td>0.732067</td>\n",
       "    </tr>\n",
       "    <tr>\n",
       "      <th>2</th>\n",
       "      <td>Amber Valley</td>\n",
       "      <td>0.149983</td>\n",
       "      <td>0.055239</td>\n",
       "      <td>-0.070903</td>\n",
       "      <td>-0.050332</td>\n",
       "      <td>0.045053</td>\n",
       "    </tr>\n",
       "    <tr>\n",
       "      <th>3</th>\n",
       "      <td>Arun</td>\n",
       "      <td>0.084421</td>\n",
       "      <td>0.223189</td>\n",
       "      <td>0.240039</td>\n",
       "      <td>-0.016405</td>\n",
       "      <td>0.252511</td>\n",
       "    </tr>\n",
       "    <tr>\n",
       "      <th>4</th>\n",
       "      <td>Ashfield</td>\n",
       "      <td>0.105560</td>\n",
       "      <td>NaN</td>\n",
       "      <td>-0.024130</td>\n",
       "      <td>-0.311607</td>\n",
       "      <td>0.216898</td>\n",
       "    </tr>\n",
       "    <tr>\n",
       "      <th>...</th>\n",
       "      <td>...</td>\n",
       "      <td>...</td>\n",
       "      <td>...</td>\n",
       "      <td>...</td>\n",
       "      <td>...</td>\n",
       "      <td>...</td>\n",
       "    </tr>\n",
       "    <tr>\n",
       "      <th>257</th>\n",
       "      <td>Wolverhampton</td>\n",
       "      <td>0.155715</td>\n",
       "      <td>-0.091398</td>\n",
       "      <td>0.274346</td>\n",
       "      <td>-0.161525</td>\n",
       "      <td>0.514262</td>\n",
       "    </tr>\n",
       "    <tr>\n",
       "      <th>258</th>\n",
       "      <td>Worthing</td>\n",
       "      <td>0.161227</td>\n",
       "      <td>NaN</td>\n",
       "      <td>-0.073748</td>\n",
       "      <td>0.091198</td>\n",
       "      <td>0.021390</td>\n",
       "    </tr>\n",
       "    <tr>\n",
       "      <th>259</th>\n",
       "      <td>Wychavon</td>\n",
       "      <td>-0.118704</td>\n",
       "      <td>0.259111</td>\n",
       "      <td>0.001954</td>\n",
       "      <td>0.227642</td>\n",
       "      <td>-0.206812</td>\n",
       "    </tr>\n",
       "    <tr>\n",
       "      <th>260</th>\n",
       "      <td>Wyre Forest</td>\n",
       "      <td>0.192087</td>\n",
       "      <td>NaN</td>\n",
       "      <td>0.097085</td>\n",
       "      <td>-0.007959</td>\n",
       "      <td>0.526188</td>\n",
       "    </tr>\n",
       "    <tr>\n",
       "      <th>261</th>\n",
       "      <td>York</td>\n",
       "      <td>NaN</td>\n",
       "      <td>0.221249</td>\n",
       "      <td>0.055575</td>\n",
       "      <td>-0.064435</td>\n",
       "      <td>0.019689</td>\n",
       "    </tr>\n",
       "  </tbody>\n",
       "</table>\n",
       "<p>262 rows × 6 columns</p>\n",
       "</div>"
      ],
      "text/plain": [
       "           LAD20NM  temperature  humidity  windspeed        UV  totalarrival\n",
       "0             Adur     0.122504  0.104326   0.333976 -0.091563      0.595159\n",
       "1        Allerdale     0.072478       NaN   0.105532 -0.153756      0.732067\n",
       "2     Amber Valley     0.149983  0.055239  -0.070903 -0.050332      0.045053\n",
       "3             Arun     0.084421  0.223189   0.240039 -0.016405      0.252511\n",
       "4         Ashfield     0.105560       NaN  -0.024130 -0.311607      0.216898\n",
       "..             ...          ...       ...        ...       ...           ...\n",
       "257  Wolverhampton     0.155715 -0.091398   0.274346 -0.161525      0.514262\n",
       "258       Worthing     0.161227       NaN  -0.073748  0.091198      0.021390\n",
       "259       Wychavon    -0.118704  0.259111   0.001954  0.227642     -0.206812\n",
       "260    Wyre Forest     0.192087       NaN   0.097085 -0.007959      0.526188\n",
       "261           York          NaN  0.221249   0.055575 -0.064435      0.019689\n",
       "\n",
       "[262 rows x 6 columns]"
      ]
     },
     "execution_count": 6,
     "metadata": {},
     "output_type": "execute_result"
    }
   ],
   "source": [
    "path = r\"..\\..\\data\\af_allcity_dlt(1).csv\"\n",
    "df = pd.read_csv(path)\n",
    "df\n"
   ]
  },
  {
   "cell_type": "code",
   "execution_count": 3,
   "metadata": {},
   "outputs": [
    {
     "data": {
      "text/plain": [
       "LAD20NM          object\n",
       "temp            float64\n",
       "humi            float64\n",
       "wind            float64\n",
       "UV               object\n",
       "totalarrival    float64\n",
       "dtype: object"
      ]
     },
     "execution_count": 3,
     "metadata": {},
     "output_type": "execute_result"
    }
   ],
   "source": [
    "df.dtypes"
   ]
  },
  {
   "cell_type": "code",
   "execution_count": 7,
   "metadata": {},
   "outputs": [],
   "source": [
    "df.to_csv(r\"..\\..\\data\\af_allcity_dlt1.csv\")"
   ]
  }
 ],
 "metadata": {
  "kernelspec": {
   "display_name": "pytorch",
   "language": "python",
   "name": "python3"
  },
  "language_info": {
   "codemirror_mode": {
    "name": "ipython",
    "version": 3
   },
   "file_extension": ".py",
   "mimetype": "text/x-python",
   "name": "python",
   "nbconvert_exporter": "python",
   "pygments_lexer": "ipython3",
   "version": "3.8.12"
  },
  "orig_nbformat": 4,
  "vscode": {
   "interpreter": {
    "hash": "cb8644cfc9e868e48b8fff51de2860949c0d10318e07ee86270e83943d8adfa3"
   }
  }
 },
 "nbformat": 4,
 "nbformat_minor": 2
}
