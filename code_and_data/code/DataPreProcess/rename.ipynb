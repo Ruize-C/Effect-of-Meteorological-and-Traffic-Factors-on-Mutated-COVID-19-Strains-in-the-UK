{
 "cells": [
  {
   "cell_type": "code",
   "execution_count": 1,
   "metadata": {},
   "outputs": [],
   "source": [
    "import pandas as pd\n",
    "import numpy as np\n",
    "import os"
   ]
  },
  {
   "cell_type": "code",
   "execution_count": 2,
   "metadata": {},
   "outputs": [],
   "source": [
    "path = r\"..\\..\\data\\ExtraData\\weather_by_area\"\n",
    "for name in os.listdir(path):\n",
    "    if \" And \" in name:\n",
    "        newname = name.replace(\" And \", \" and \")\n",
    "        os.rename(os.path.join(path,name), os.path.join(path,newname))\n",
    "    if \" Of \" in name:\n",
    "        newname = name.replace(\" Of \", \" of \")\n",
    "        os.rename(os.path.join(path,name), os.path.join(path,newname))\n",
    "    if \"-On\" in name:\n",
    "        newname = name.replace(\"-On\", \"-on\")\n",
    "        os.rename(os.path.join(path,name), os.path.join(path,newname))\n",
    "    if \"-Under\" in name:\n",
    "        newname = name.replace(\"-Under\", \"-under\")\n",
    "        os.rename(os.path.join(path,name), os.path.join(path,newname))\n",
    "    if \" upon \" in name:\n",
    "        newname = name.replace(\" Upon \", \" upon \")\n",
    "        os.rename(os.path.join(path,name), os.path.join(path,newname))\n",
    "    if \"-In\" in name:\n",
    "        newname = name.replace(\"-In\", \"-in\")\n",
    "        os.rename(os.path.join(path,name), os.path.join(path,newname))"
   ]
  }
 ],
 "metadata": {
  "kernelspec": {
   "display_name": "pytorch",
   "language": "python",
   "name": "python3"
  },
  "language_info": {
   "codemirror_mode": {
    "name": "ipython",
    "version": 3
   },
   "file_extension": ".py",
   "mimetype": "text/x-python",
   "name": "python",
   "nbconvert_exporter": "python",
   "pygments_lexer": "ipython3",
   "version": "3.8.12 | packaged by conda-forge | (default, Sep 29 2021, 19:15:57) [MSC v.1916 64 bit (AMD64)]"
  },
  "orig_nbformat": 4,
  "vscode": {
   "interpreter": {
    "hash": "cb8644cfc9e868e48b8fff51de2860949c0d10318e07ee86270e83943d8adfa3"
   }
  }
 },
 "nbformat": 4,
 "nbformat_minor": 2
}
