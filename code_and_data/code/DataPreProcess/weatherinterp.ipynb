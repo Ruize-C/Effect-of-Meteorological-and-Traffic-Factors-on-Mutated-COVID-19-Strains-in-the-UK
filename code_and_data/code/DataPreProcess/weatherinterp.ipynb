{
 "cells": [
  {
   "cell_type": "code",
   "execution_count": 1,
   "metadata": {},
   "outputs": [],
   "source": [
    "import numpy as np\n",
    "import pandas as pd\n",
    "import os"
   ]
  },
  {
   "cell_type": "code",
   "execution_count": 6,
   "metadata": {},
   "outputs": [],
   "source": [
    "root = r\"..\\..\\data\\ExtraData\\weather_by_area\"\n",
    "filesave = r\"..\\..\\Final_Factor\\weather_with_cases\"\n",
    "baseroot = r\"..\\..\\data\\ExtraData\\379_area_New_cases_csv\""
   ]
  },
  {
   "cell_type": "code",
   "execution_count": 8,
   "metadata": {},
   "outputs": [],
   "source": [
    "for file in os.listdir(root):\n",
    "    fileroot = os.path.join(root,file)\n",
    "    basefileroot = os.path.join(baseroot,file)\n",
    "    filesaveroot = os.path.join(filesave,file)\n",
    "    filename = file[:-4]\n",
    "    # filedf = pd.read_csv(fileroot,index_col=\"Date\",usecols=[\"Temperature (°F)\",\"Humidity (%)\",\"Wind Speed (mph)\",\"Pressure (inHg)\"])\n",
    "    filedf = pd.read_csv(fileroot,index_col=\"Date\")\n",
    "    try:\n",
    "        basedf = pd.read_csv(basefileroot,usecols=[\"date\",\"R0orig\",\"R0alp\",\"R0dlt\",\"R0omi\"])\n",
    "    except FileNotFoundError:\n",
    "        continue\n",
    "    basedf.rename(columns={'date':'Date'},inplace=True)\n",
    "    filedf.fillna(0,inplace=True)\n",
    "    for idx,data in filedf.iterrows():\n",
    "        if data[\"Temperature (°F)\"]==0:\n",
    "            y,m,d = map(int,idx.split(\"-\"))\n",
    "            try:\n",
    "                newdate = str(y+1)+\"-\"+str(m).zfill(2)+\"-\"+str(d).zfill(2)\n",
    "                if filedf.loc[newdate,\"Temperature (°F)\"]!=0:\n",
    "                    filedf.loc[idx,\"Temperature (°F)\"] = filedf.loc[newdate,\"Temperature (°F)\"]\n",
    "                    filedf.loc[idx,\"Humidity (%)\"] = filedf.loc[newdate,\"Humidity (%)\"]\n",
    "                    filedf.loc[idx,\"Wind Speed (mph)\"] = filedf.loc[newdate,\"Wind Speed (mph)\"]\n",
    "                    filedf.loc[idx,\"Pressure (inHg)\"] = filedf.loc[newdate,\"Pressure (inHg)\"]\n",
    "            except KeyError:\n",
    "                newdate = str(y-1)+\"-\"+str(m).zfill(2)+\"-\"+str(d).zfill(2)\n",
    "                if filedf.loc[newdate,\"Temperature (°F)\"]!=0:\n",
    "                    filedf.loc[idx,\"Temperature (°F)\"] = filedf.loc[newdate,\"Temperature (°F)\"]\n",
    "                    filedf.loc[idx,\"Humidity (%)\"] = filedf.loc[newdate,\"Humidity (%)\"]\n",
    "                    filedf.loc[idx,\"Wind Speed (mph)\"] = filedf.loc[newdate,\"Wind Speed (mph)\"]\n",
    "                    filedf.loc[idx,\"Pressure (inHg)\"] = filedf.loc[newdate,\"Pressure (inHg)\"]\n",
    "    restdf = pd.DataFrame(filedf,columns=[\"Temperature (°F)\",\"Humidity (%)\",\"Wind Speed (mph)\",\"Pressure (inHg)\"])\n",
    "    newdf = pd.merge(restdf,basedf,on=\"Date\",how=\"left\")\n",
    "    newdf.to_csv(filesaveroot)"
   ]
  },
  {
   "cell_type": "code",
   "execution_count": 3,
   "metadata": {},
   "outputs": [],
   "source": [
    "\n",
    "fileroot = os.path.join(root,\"UVprocessed.csv\")\n",
    "airroot  = os.path.join(root,\"airpassenger.CSV\")\n",
    "# filedf = pd.read_csv(fileroot,index_col=\"Date\",usecols=[\"Temperature (°F)\",\"Humidity (%)\",\"Wind Speed (mph)\",\"Pressure (inHg)\"])\n",
    "filedf = pd.read_csv(fileroot,index_col=\"Date\")\n",
    "basedf = pd.read_csv(airroot,index_col=\"Date\")\n",
    "# basedf.rename(columns={'date':'Date'},inplace=True)\n",
    "filedf.fillna(0,inplace=True)\n",
    "for idx,data in filedf.iterrows():\n",
    "    if data[\"UV Total Index\"]==0:\n",
    "        y,m,d = map(int,idx.split(\"-\"))\n",
    "        try:\n",
    "            newdate = str(y+1)+\"-\"+str(m).zfill(2)+\"-\"+str(d).zfill(2)\n",
    "            if filedf.loc[newdate,\"UV Total Index\"]!=0:\n",
    "                filedf.loc[idx,\"UV Total Index\"] = filedf.loc[newdate,\"UV Total Index\"]\n",
    "        except KeyError:\n",
    "            newdate = str(y-1)+\"-\"+str(m).zfill(2)+\"-\"+str(d).zfill(2)\n",
    "            if filedf.loc[newdate,\"UV Total Index\"]!=0:\n",
    "                filedf.loc[idx,\"UV Total Index\"] = filedf.loc[newdate,\"UV Total Index\"]\n",
    "        \n",
    "restdf = pd.DataFrame(filedf,columns=[\"UV Total Index\"])\n",
    "newdf = pd.merge(restdf,basedf,on=\"Date\",how=\"right\")\n",
    "newdf.to_csv(os.path.join(root,\"timedfnew.csv\"))"
   ]
  }
 ],
 "metadata": {
  "kernelspec": {
   "display_name": "pytorch",
   "language": "python",
   "name": "python3"
  },
  "language_info": {
   "codemirror_mode": {
    "name": "ipython",
    "version": 3
   },
   "file_extension": ".py",
   "mimetype": "text/x-python",
   "name": "python",
   "nbconvert_exporter": "python",
   "pygments_lexer": "ipython3",
   "version": "3.8.12"
  },
  "orig_nbformat": 4,
  "vscode": {
   "interpreter": {
    "hash": "cb8644cfc9e868e48b8fff51de2860949c0d10318e07ee86270e83943d8adfa3"
   }
  }
 },
 "nbformat": 4,
 "nbformat_minor": 2
}
